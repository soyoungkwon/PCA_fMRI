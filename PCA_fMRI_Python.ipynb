{
 "cells": [
  {
   "cell_type": "code",
   "execution_count": null,
   "metadata": {},
   "outputs": [],
   "source": [
    "# To use Machine learning toolbox to decompose fMRI signal"
   ]
  },
  {
   "cell_type": "code",
   "execution_count": 28,
   "metadata": {},
   "outputs": [],
   "source": [
    "# Import Python Library\n",
    "import matplotlib.pyplot as plt\n",
    "import matplotlib.gridspec as gridspec\n",
    "#import hdf5storage\n",
    "from ipywidgets import interact, interactive, fixed, interact_manual\n",
    "import numpy as np\n",
    "import scipy as sp\n",
    "import scipy.io\n",
    "import pandas as pd\n",
    "#import scipy.io.loadmat"
   ]
  },
  {
   "cell_type": "code",
   "execution_count": 29,
   "metadata": {},
   "outputs": [],
   "source": [
    "# Import python library (mat format & machine learning toolbox)\n",
    "#import scipy\n",
    "#import scipy.io as sio\n",
    "#a = sio.loadmat(file)\n",
    "import hdf5storage\n",
    "import sklearn\n",
    "import sklearn.decomposition"
   ]
  },
  {
   "cell_type": "code",
   "execution_count": 35,
   "metadata": {},
   "outputs": [],
   "source": [
    "# Define filename to load\n",
    "fNII = \"BOLD4D_vis_sraf_s10mm_sub03_sess1.mat\"\n",
    "psycho = \"resp_sub03_vis_sess1.mat\""
   ]
  },
  {
   "cell_type": "code",
   "execution_count": 36,
   "metadata": {},
   "outputs": [],
   "source": [
    "# load DATA (fMRI signal + Behavioral data)\n",
    "boldData = hdf5storage.loadmat(fNII)['bold']\n",
    "psychoData = hdf5storage.loadmat(psycho)"
   ]
  },
  {
   "cell_type": "code",
   "execution_count": 37,
   "metadata": {},
   "outputs": [],
   "source": [
    "# in case to load NII format (Niftni format: for fMRI signal)\n",
    "#import nibabel as nib\n",
    "#img = nib.load(example_filename)"
   ]
  },
  {
   "cell_type": "code",
   "execution_count": 38,
   "metadata": {},
   "outputs": [
    {
     "data": {
      "text/plain": [
       "(64, 64, 33, 210)"
      ]
     },
     "execution_count": 38,
     "metadata": {},
     "output_type": "execute_result"
    }
   ],
   "source": [
    "# fMRI data size check\n",
    "boldData.shape"
   ]
  },
  {
   "cell_type": "code",
   "execution_count": null,
   "metadata": {},
   "outputs": [],
   "source": [
    "# reshape data\n",
    "spaceDim = boldData.shape[:-1]\n",
    "X = boldData.reshape((-1, boldData.shape[-1]))\n",
    "\n",
    "# do decomposition PCA, FastICA, NMF\n",
    "K = 50\n",
    "pca = sklearn.decomposition.NMF(n_components=K)\n",
    "spatialFilters = pca.fit_transform(X)\n",
    "\n",
    "# get spatial, and temporal filters\n",
    "temporalFilters = pca.components_\n",
    "spatialFilters = spatialFilters.reshape(spaceDim+(K,))"
   ]
  },
  {
   "cell_type": "code",
   "execution_count": null,
   "metadata": {},
   "outputs": [],
   "source": [
    "def plot(z):\n",
    "    f = plt.figure(figsize=(10, 10))\n",
    "    gs = gridspec.GridSpec(2, 2,\n",
    "                           width_ratios=[1, 1],\n",
    "                           height_ratios=[1, 1, 4])\n",
    "    axBold = plt.subplot(gs[0,:])\n",
    "    axBold.matshow(boldData[:,:,z])\n",
    "    \n",
    "interact(plot,\n",
    "        z=(0, boldData.shape[2]-1))"
   ]
  },
  {
   "cell_type": "code",
   "execution_count": null,
   "metadata": {},
   "outputs": [],
   "source": []
  }
 ],
 "metadata": {
  "kernelspec": {
   "display_name": "Python 3",
   "language": "python",
   "name": "python3"
  },
  "language_info": {
   "codemirror_mode": {
    "name": "ipython",
    "version": 3
   },
   "file_extension": ".py",
   "mimetype": "text/x-python",
   "name": "python",
   "nbconvert_exporter": "python",
   "pygments_lexer": "ipython3",
   "version": "3.7.1"
  }
 },
 "nbformat": 4,
 "nbformat_minor": 2
}
